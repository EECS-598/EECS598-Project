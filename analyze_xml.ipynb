{
 "cells": [
  {
   "cell_type": "code",
   "execution_count": 4,
   "metadata": {},
   "outputs": [],
   "source": [
    "import pandas as pd"
   ]
  },
  {
   "cell_type": "code",
   "execution_count": 5,
   "metadata": {
    "scrolled": true
   },
   "outputs": [
    {
     "data": {
      "text/html": [
       "<div>\n",
       "<style scoped>\n",
       "    .dataframe tbody tr th:only-of-type {\n",
       "        vertical-align: middle;\n",
       "    }\n",
       "\n",
       "    .dataframe tbody tr th {\n",
       "        vertical-align: top;\n",
       "    }\n",
       "\n",
       "    .dataframe thead th {\n",
       "        text-align: right;\n",
       "    }\n",
       "</style>\n",
       "<table border=\"1\" class=\"dataframe\">\n",
       "  <thead>\n",
       "    <tr style=\"text-align: right;\">\n",
       "      <th></th>\n",
       "      <th>Acquisition Plane</th>\n",
       "      <th>Acquisition Type</th>\n",
       "      <th>Coil</th>\n",
       "      <th>Field Strength</th>\n",
       "      <th>Flip Angle</th>\n",
       "      <th>Manufacturer</th>\n",
       "      <th>Matrix X</th>\n",
       "      <th>Matrix Y</th>\n",
       "      <th>Matrix Z</th>\n",
       "      <th>Mfg Model</th>\n",
       "      <th>...</th>\n",
       "      <th>modality</th>\n",
       "      <th>postMortem</th>\n",
       "      <th>researchGroup</th>\n",
       "      <th>seriesIdentifier</th>\n",
       "      <th>studyIdentifier</th>\n",
       "      <th>subjectAge</th>\n",
       "      <th>subjectIdentifier</th>\n",
       "      <th>subjectSex</th>\n",
       "      <th>visitIdentifier</th>\n",
       "      <th>weightKg</th>\n",
       "    </tr>\n",
       "  </thead>\n",
       "  <tbody>\n",
       "    <tr>\n",
       "      <th>0</th>\n",
       "      <td>AXIAL</td>\n",
       "      <td>2D</td>\n",
       "      <td>NaN</td>\n",
       "      <td>3.0</td>\n",
       "      <td>90.0</td>\n",
       "      <td>GE MEDICAL SYSTEMS</td>\n",
       "      <td>512.0</td>\n",
       "      <td>512.0</td>\n",
       "      <td>78.0</td>\n",
       "      <td>Signa HDxt</td>\n",
       "      <td>...</td>\n",
       "      <td>MRI</td>\n",
       "      <td>F</td>\n",
       "      <td>PD</td>\n",
       "      <td>102127</td>\n",
       "      <td>32167</td>\n",
       "      <td>65.1808</td>\n",
       "      <td>3001</td>\n",
       "      <td>M</td>\n",
       "      <td>Baseline</td>\n",
       "      <td>74.2</td>\n",
       "    </tr>\n",
       "    <tr>\n",
       "      <th>1</th>\n",
       "      <td>AXIAL</td>\n",
       "      <td>2D</td>\n",
       "      <td>NaN</td>\n",
       "      <td>3.0</td>\n",
       "      <td>90.0</td>\n",
       "      <td>GE MEDICAL SYSTEMS</td>\n",
       "      <td>512.0</td>\n",
       "      <td>512.0</td>\n",
       "      <td>26.0</td>\n",
       "      <td>Signa HDxt</td>\n",
       "      <td>...</td>\n",
       "      <td>MRI</td>\n",
       "      <td>F</td>\n",
       "      <td>PD</td>\n",
       "      <td>102126</td>\n",
       "      <td>32167</td>\n",
       "      <td>65.1808</td>\n",
       "      <td>3001</td>\n",
       "      <td>M</td>\n",
       "      <td>Baseline</td>\n",
       "      <td>74.2</td>\n",
       "    </tr>\n",
       "    <tr>\n",
       "      <th>2</th>\n",
       "      <td>SAGITTAL</td>\n",
       "      <td>3D</td>\n",
       "      <td>NaN</td>\n",
       "      <td>3.0</td>\n",
       "      <td>13.0</td>\n",
       "      <td>GE MEDICAL SYSTEMS</td>\n",
       "      <td>256.0</td>\n",
       "      <td>256.0</td>\n",
       "      <td>152.0</td>\n",
       "      <td>Signa HDxt</td>\n",
       "      <td>...</td>\n",
       "      <td>MRI</td>\n",
       "      <td>F</td>\n",
       "      <td>PD</td>\n",
       "      <td>102128</td>\n",
       "      <td>32167</td>\n",
       "      <td>65.1808</td>\n",
       "      <td>3001</td>\n",
       "      <td>M</td>\n",
       "      <td>Baseline</td>\n",
       "      <td>74.2</td>\n",
       "    </tr>\n",
       "    <tr>\n",
       "      <th>3</th>\n",
       "      <td>AXIAL</td>\n",
       "      <td>2D</td>\n",
       "      <td>NaN</td>\n",
       "      <td>3.0</td>\n",
       "      <td>90.0</td>\n",
       "      <td>GE MEDICAL SYSTEMS</td>\n",
       "      <td>512.0</td>\n",
       "      <td>512.0</td>\n",
       "      <td>25.0</td>\n",
       "      <td>Signa HDxt</td>\n",
       "      <td>...</td>\n",
       "      <td>MRI</td>\n",
       "      <td>F</td>\n",
       "      <td>PD</td>\n",
       "      <td>102131</td>\n",
       "      <td>32168</td>\n",
       "      <td>67.6247</td>\n",
       "      <td>3002</td>\n",
       "      <td>F</td>\n",
       "      <td>Baseline</td>\n",
       "      <td>70.6</td>\n",
       "    </tr>\n",
       "    <tr>\n",
       "      <th>4</th>\n",
       "      <td>AXIAL</td>\n",
       "      <td>2D</td>\n",
       "      <td>NaN</td>\n",
       "      <td>3.0</td>\n",
       "      <td>90.0</td>\n",
       "      <td>GE MEDICAL SYSTEMS</td>\n",
       "      <td>512.0</td>\n",
       "      <td>512.0</td>\n",
       "      <td>21.0</td>\n",
       "      <td>Signa HDxt</td>\n",
       "      <td>...</td>\n",
       "      <td>MRI</td>\n",
       "      <td>F</td>\n",
       "      <td>PD</td>\n",
       "      <td>102130</td>\n",
       "      <td>32168</td>\n",
       "      <td>67.6247</td>\n",
       "      <td>3002</td>\n",
       "      <td>F</td>\n",
       "      <td>Baseline</td>\n",
       "      <td>70.6</td>\n",
       "    </tr>\n",
       "  </tbody>\n",
       "</table>\n",
       "<p>5 rows × 32 columns</p>\n",
       "</div>"
      ],
      "text/plain": [
       "  Acquisition Plane Acquisition Type Coil  Field Strength  Flip Angle  \\\n",
       "0             AXIAL               2D  NaN             3.0        90.0   \n",
       "1             AXIAL               2D  NaN             3.0        90.0   \n",
       "2          SAGITTAL               3D  NaN             3.0        13.0   \n",
       "3             AXIAL               2D  NaN             3.0        90.0   \n",
       "4             AXIAL               2D  NaN             3.0        90.0   \n",
       "\n",
       "         Manufacturer  Matrix X  Matrix Y  Matrix Z   Mfg Model   ...     \\\n",
       "0  GE MEDICAL SYSTEMS     512.0     512.0      78.0  Signa HDxt   ...      \n",
       "1  GE MEDICAL SYSTEMS     512.0     512.0      26.0  Signa HDxt   ...      \n",
       "2  GE MEDICAL SYSTEMS     256.0     256.0     152.0  Signa HDxt   ...      \n",
       "3  GE MEDICAL SYSTEMS     512.0     512.0      25.0  Signa HDxt   ...      \n",
       "4  GE MEDICAL SYSTEMS     512.0     512.0      21.0  Signa HDxt   ...      \n",
       "\n",
       "   modality  postMortem researchGroup  seriesIdentifier  studyIdentifier  \\\n",
       "0       MRI           F            PD            102127            32167   \n",
       "1       MRI           F            PD            102126            32167   \n",
       "2       MRI           F            PD            102128            32167   \n",
       "3       MRI           F            PD            102131            32168   \n",
       "4       MRI           F            PD            102130            32168   \n",
       "\n",
       "   subjectAge  subjectIdentifier subjectSex visitIdentifier weightKg  \n",
       "0     65.1808               3001          M        Baseline     74.2  \n",
       "1     65.1808               3001          M        Baseline     74.2  \n",
       "2     65.1808               3001          M        Baseline     74.2  \n",
       "3     67.6247               3002          F        Baseline     70.6  \n",
       "4     67.6247               3002          F        Baseline     70.6  \n",
       "\n",
       "[5 rows x 32 columns]"
      ]
     },
     "execution_count": 5,
     "metadata": {},
     "output_type": "execute_result"
    }
   ],
   "source": [
    "df = pd.read_csv('metadata.csv')\n",
    "df.head()\n"
   ]
  },
  {
   "cell_type": "code",
   "execution_count": 3,
   "metadata": {},
   "outputs": [],
   "source": [
    "def size(x):\n",
    "    \n",
    "    return (x['Matrix X'],x['Matrix Y'],x['Matrix Z'])"
   ]
  },
  {
   "cell_type": "code",
   "execution_count": 31,
   "metadata": {},
   "outputs": [],
   "source": [
    "df['size'] = list(zip(df['Matrix X'],df['Matrix Y'],df['Matrix Z']))"
   ]
  },
  {
   "cell_type": "code",
   "execution_count": 6,
   "metadata": {},
   "outputs": [
    {
     "data": {
      "text/plain": [
       "0       AX T2 AC-PC line Entire Brain\n",
       "1                     AX T2 FLAIR 5/1\n",
       "2         sag 3D FSPGR BRAVO straight\n",
       "3                     AX T2 FLAIR 5/1\n",
       "4       AX T2 AC-PC line Entire Brain\n",
       "5         sag 3D FSPGR BRAVO straight\n",
       "6                     AX T2 FLAIR 5/1\n",
       "7       AX T2 AC-PC line Entire Brain\n",
       "8         sag 3D FSPGR BRAVO straight\n",
       "9                     AX T2 FLAIR 5/1\n",
       "10      AX T2 AC-PC line Entire Brain\n",
       "11        sag 3D FSPGR BRAVO straight\n",
       "12        sag 3D FSPGR BRAVO straight\n",
       "13      AX T2 AC-PC line Entire Brain\n",
       "14                    AX T2 FLAIR 5/1\n",
       "15      AX T2 AC-PC line Entire Brain\n",
       "16        sag 3D FSPGR BRAVO straight\n",
       "17                    AX T2 FLAIR 5/1\n",
       "18                    AX T2 FLAIR 5/1\n",
       "19        sag 3D FSPGR BRAVO straight\n",
       "20      AX T2 AC-PC line Entire Brain\n",
       "21        sag 3D FSPGR BRAVO straight\n",
       "22      AX T2 AC-PC line Entire Brain\n",
       "23                    AX T2 FLAIR 5/1\n",
       "24                    AX T2 FLAIR 5/1\n",
       "25        sag 3D FSPGR BRAVO straight\n",
       "26      AX T2 AC-PC line Entire Brain\n",
       "27        sag 3D FSPGR BRAVO straight\n",
       "28      AX T2 AC-PC line Entire Brain\n",
       "29                    AX T2 FLAIR 5/1\n",
       "                    ...              \n",
       "2459                  AXIAL FSE T2 FS\n",
       "2460                      AXIAL FLAIR\n",
       "2461                      SAG 3D SPGR\n",
       "2462                  AXIAL FSE T2 FS\n",
       "2463                  AXIAL FSE T2 FS\n",
       "2464                      AX T2 FLAIR\n",
       "2465                  AXIAL FSE T2 FS\n",
       "2466                      SAG 3D SPGR\n",
       "2467                  AXIAL FSE T2 FS\n",
       "2468                      AXIAL FLAIR\n",
       "2469                      SAG 3D SPGR\n",
       "2470                  AXIAL FSE T2 FS\n",
       "2471                  AXIAL FSE T2 FS\n",
       "2472                            AX T1\n",
       "2473                      AXIAL FLAIR\n",
       "2474                       Ax T2* GRE\n",
       "2475                      AX T1 FLAIR\n",
       "2476                  AXIAL PD+T2 TSE\n",
       "2477                      AXIAL FLAIR\n",
       "2478                    SAG T1 MPRAGE\n",
       "2479                  AXIAL PD+T2 TSE\n",
       "2480               Axial PD-T2 TSE FS\n",
       "2481                    MPRAGE GRAPPA\n",
       "2482               Axial PD-T2 TSE FS\n",
       "2483               Axial PD-T2 TSE FS\n",
       "2484                    MPRAGE GRAPPA\n",
       "2485               Axial PD-T2 TSE FS\n",
       "2486                 MPRAGE w/ GRAPPA\n",
       "2487               Axial PD-T2 TSE FS\n",
       "2488               Axial PD-T2 TSE FS\n",
       "Name: description, Length: 2489, dtype: object"
      ]
     },
     "execution_count": 6,
     "metadata": {},
     "output_type": "execute_result"
    }
   ],
   "source": [
    "p =df.groupby('Slice Thickness')\n",
    "p.count()\n",
    "\n",
    "df['description']"
   ]
  },
  {
   "cell_type": "code",
   "execution_count": 21,
   "metadata": {},
   "outputs": [],
   "source": [
    "df1 = df[df['Weighting']=='PD']"
   ]
  },
  {
   "cell_type": "code",
   "execution_count": 43,
   "metadata": {
    "scrolled": true
   },
   "outputs": [
    {
     "name": "stdout",
     "output_type": "stream",
     "text": [
      "PD    981\n",
      "T2    856\n",
      "T1    652\n",
      "Name: Weighting, dtype: int64\n",
      "T2    1561\n",
      "T1     665\n",
      "PD     263\n",
      "Name: Weighting, dtype: int64\n"
     ]
    }
   ],
   "source": [
    "def extract(x):\n",
    "    \n",
    "    if x['Weighting'] == 'PD':\n",
    "        \n",
    "        if  't1' in x['description'].lower():\n",
    "            return 'T1'\n",
    "        elif  't2' in x['description'].lower():\n",
    "            return 'T2'\n",
    "        \n",
    "        return x['Weighting']\n",
    "    \n",
    "    return x['Weighting']\n",
    "\n",
    "def ex(x):\n",
    "    print(x['description'],x['Weighting'])\n",
    "    \n",
    "\n",
    "print(df['Weighting'].value_counts())\n",
    "df['Weighting'] =  df.apply(extract,axis=1)\n",
    "print(df['Weighting'].value_counts())"
   ]
  },
  {
   "cell_type": "code",
   "execution_count": 9,
   "metadata": {},
   "outputs": [
    {
     "data": {
      "text/plain": [
       "3.0    579\n",
       "1.0    137\n",
       "4.0     91\n",
       "1.2     87\n",
       "5.0     86\n",
       "2.0      1\n",
       "Name: Slice Thickness, dtype: int64"
      ]
     },
     "execution_count": 9,
     "metadata": {},
     "output_type": "execute_result"
    }
   ],
   "source": [
    "df[df['Weighting']=='PD']['Slice Thickness'].value_counts()"
   ]
  },
  {
   "cell_type": "code",
   "execution_count": 32,
   "metadata": {},
   "outputs": [
    {
     "data": {
      "text/plain": [
       "(240.0, 256.0, 176.0)     361\n",
       "(256.0, 256.0, 176.0)      81\n",
       "(256.0, 256.0, 248.0)      29\n",
       "(256.0, 256.0, 152.0)      27\n",
       "(288.0, 288.0, 170.0)      14\n",
       "(240.0, 256.0, 192.0)      13\n",
       "(256.0, 256.0, 136.0)      13\n",
       "(192.0, 192.0, 128.0)      10\n",
       "(256.0, 256.0, 170.0)       9\n",
       "(256.0, 256.0, 100.0)       7\n",
       "(512.0, 512.0, 80.0)        6\n",
       "(256.0, 256.0, 94.0)        6\n",
       "(256.0, 256.0, 98.0)        6\n",
       "(512.0, 512.0, 88.0)        5\n",
       "(512.0, 512.0, 84.0)        5\n",
       "(256.0, 256.0, 160.0)       4\n",
       "(1044.0, 1044.0, 65.0)      2\n",
       "(256.0, 240.0, 176.0)       2\n",
       "(240.0, 256.0, 175.0)       2\n",
       "(256.0, 256.0, 120.0)       1\n",
       "(256.0, 256.0, 102.0)       1\n",
       "(512.0, 512.0, 94.0)        1\n",
       "(256.0, 256.0, 116.0)       1\n",
       "(512.0, 512.0, 164.0)       1\n",
       "(256.0, 256.0, 88.0)        1\n",
       "(256.0, 256.0, 130.0)       1\n",
       "(256.0, 256.0, 124.0)       1\n",
       "(256.0, 256.0, 84.0)        1\n",
       "(256.0, 256.0, 106.0)       1\n",
       "(240.0, 256.0, 174.0)       1\n",
       "(320.0, 320.0, 175.0)       1\n",
       "(288.0, 288.0, 180.0)       1\n",
       "(512.0, 512.0, 82.0)        1\n",
       "(240.0, 256.0, 144.0)       1\n",
       "(256.0, 256.0, 247.0)       1\n",
       "(256.0, 256.0, 133.0)       1\n",
       "(512.0, 512.0, 76.0)        1\n",
       "(288.0, 288.0, 136.0)       1\n",
       "(512.0, 512.0, 90.0)        1\n",
       "(216.0, 256.0, 208.0)       1\n",
       "(256.0, 256.0, 90.0)        1\n",
       "(256.0, 256.0, 76.0)        1\n",
       "(192.0, 256.0, 160.0)       1\n",
       "(512.0, 512.0, 78.0)        1\n",
       "(256.0, 256.0, 154.0)       1\n",
       "Name: size, dtype: int64"
      ]
     },
     "execution_count": 32,
     "metadata": {},
     "output_type": "execute_result"
    }
   ],
   "source": [
    "df[(df['Slice Thickness']<=2) & (df['Weighting']=='T1') ]['size'].value_counts()"
   ]
  },
  {
   "cell_type": "code",
   "execution_count": 53,
   "metadata": {},
   "outputs": [
    {
     "data": {
      "text/plain": [
       "Acquisition Plane                   AXIAL\n",
       "Acquisition Type                       2D\n",
       "Coil                                  NaN\n",
       "Field Strength                          3\n",
       "Flip Angle                             90\n",
       "Manufacturer           GE MEDICAL SYSTEMS\n",
       "Matrix X                              512\n",
       "Matrix Y                              512\n",
       "Matrix Z                               26\n",
       "Mfg Model                      Signa HDxt\n",
       "Pixel Spacing X                    0.4883\n",
       "Pixel Spacing Y                    0.4883\n",
       "Pulse Sequence                      SE/IR\n",
       "Slice Thickness                         5\n",
       "TE                                 122.58\n",
       "TI                                   2250\n",
       "TR                                   9502\n",
       "Weighting                              T2\n",
       "ageQualifier                            Y\n",
       "dateAcquired                   2011-03-02\n",
       "description               AX T2 FLAIR 5/1\n",
       "imageUID                           224572\n",
       "modality                              MRI\n",
       "postMortem                              F\n",
       "researchGroup                          PD\n",
       "seriesIdentifier                   102126\n",
       "studyIdentifier                     32167\n",
       "subjectAge                        65.1808\n",
       "subjectIdentifier                    3001\n",
       "subjectSex                              M\n",
       "visitIdentifier                  Baseline\n",
       "weightKg                             74.2\n",
       "size                 (512.0, 512.0, 26.0)\n",
       "Name: 1, dtype: object"
      ]
     },
     "execution_count": 53,
     "metadata": {},
     "output_type": "execute_result"
    }
   ],
   "source": [
    "df.iloc[1]"
   ]
  },
  {
   "cell_type": "code",
   "execution_count": 19,
   "metadata": {},
   "outputs": [
    {
     "data": {
      "text/plain": [
       "PD    981\n",
       "T2    856\n",
       "T1    652\n",
       "Name: Weighting, dtype: int64"
      ]
     },
     "execution_count": 19,
     "metadata": {},
     "output_type": "execute_result"
    }
   ],
   "source": [
    "df['Weighting'].value_counts()"
   ]
  },
  {
   "cell_type": "code",
   "execution_count": null,
   "metadata": {},
   "outputs": [],
   "source": []
  }
 ],
 "metadata": {
  "kernelspec": {
   "display_name": "Python 3",
   "language": "python",
   "name": "python3"
  },
  "language_info": {
   "codemirror_mode": {
    "name": "ipython",
    "version": 3
   },
   "file_extension": ".py",
   "mimetype": "text/x-python",
   "name": "python",
   "nbconvert_exporter": "python",
   "pygments_lexer": "ipython3",
   "version": "3.6.6"
  }
 },
 "nbformat": 4,
 "nbformat_minor": 2
}
