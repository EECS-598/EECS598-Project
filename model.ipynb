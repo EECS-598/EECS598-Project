{
 "cells": [
  {
   "cell_type": "code",
   "execution_count": 1,
   "metadata": {},
   "outputs": [
    {
     "ename": "IndentationError",
     "evalue": "unexpected indent (<ipython-input-1-1ab73394788f>, line 61)",
     "output_type": "error",
     "traceback": [
      "\u001b[0;36m  File \u001b[0;32m\"<ipython-input-1-1ab73394788f>\"\u001b[0;36m, line \u001b[0;32m61\u001b[0m\n\u001b[0;31m    return tf.estimator.EstimatorSpec(mode=mode, loss=loss, eval_metric_ops=eval_metric_ops)\u001b[0m\n\u001b[0m    ^\u001b[0m\n\u001b[0;31mIndentationError\u001b[0m\u001b[0;31m:\u001b[0m unexpected indent\n"
     ]
    }
   ],
   "source": [
    "import tensorflow as tf\n",
    "from tensorflow import keras\n",
    "import numpy as np\n",
    "\n",
    "epochs = 500\n",
    "learning_rate = 0.001\n",
    "batch_size = 8\n",
    "n_classes = 2\n",
    "input_dimension = id = [80,100,108]\n",
    "x = tf.placeholder(\"float\", [None,id[0],id[1],id[2]])\n",
    "y = tf.placeholder(\"float\", [None, n_classes])\n",
    "\n",
    "def input_model_fcn(input,labels,mode):\n",
    "    \n",
    "    conv1 = tf.layers.conv3d(inputs=input_layer,filters=32,\n",
    "                            kernel_size=[3,3,3],padding=\"same\",\n",
    "                            activation=tf.nn.relu)\n",
    "    \n",
    "    conv2 = tf.layers.conv3d(inputs=conv1,filters=32,\n",
    "                            kernel_size=[3,3,3],padding=\"same\",\n",
    "                            activation=tf.nn.relu)\n",
    "    pool1 = tf.layers.max_pooling3d(inputs=conv2, pool_size=[2,2,2], strides=2)\n",
    "\n",
    "    conv3 = tf.layers.conv3d(inputs=pool1,filters=64,\n",
    "                            kernel_size=[3,3,3],padding=\"same\",\n",
    "                            activation=tf.nn.relu)\n",
    "    conv4 = tf.layers.conv3d(inputs=conv3,filters=64,\n",
    "                            kernel_size=[3,3,3],padding=\"same\",\n",
    "                            activation=tf.nn.relu)\n",
    "    pool2 = tf.layers.max_pooling3d(inputs=conv4, pool_size=[4,4,4], strides=2)\n",
    "\n",
    "    conv5 = tf.layers.conv3d(inputs=pool2,filters=128,\n",
    "                            kernel_size=[3,3,3],padding=\"same\",\n",
    "                            activation=tf.nn.relu)\n",
    "    conv6 = tf.layers.conv3d(inputs=conv5,filters=128\n",
    "                            ,kernel_size=[3,3,3],padding=\"same\",\n",
    "                            activation=tf.nn.relu)\n",
    "    pool3 = tf.layers.max_pooling3d(inputs=conv6, pool_size=[4,4,4], strides=2)\n",
    "\n",
    "    pool2_flat = tf.flatten(pool2)\n",
    "    dense1 = tf.layers.dense(inputs=pool2_flat, units=512, activation=tf.nn.relu)\n",
    "    dense2 = tf.layers.dense(inputs=dense1,units=128,activation=tf.nn.relu)\n",
    "    dropout = tf.layers.dropout(inputs=dense, rate=0.4, training = mode == tf.estimator.ModeKeys.TRAIN)\n",
    "\n",
    "    logits = tf.layers.dense(inputs=dropout, units=10)\n",
    "\n",
    "    if mode == tf.estimator.ModeKeys.PREDICT:\n",
    "        return tf.estimator.EstimatorSpec(mode=mode, predictions=predictions)\n",
    "\n",
    "  # Calculate Loss (for both TRAIN and EVAL modes)\n",
    "    loss = tf.losses.softmax_cross_entropy(labels=labels, logits=logits)\n",
    "\n",
    "      # Configure the Training Op (for TRAIN mode)\n",
    "    if mode == tf.estimator.ModeKeys.TRAIN:\n",
    "        optimizer = tf.train.AdamOptimizer(learning_rate=0.001)\n",
    "        train_op = optimizer.minimize(\n",
    "            loss=loss,\n",
    "            global_step=tf.train.get_global_step())\n",
    "        return tf.estimator.EstimatorSpec(mode=mode, loss=loss, train_op=train_op)\n",
    "\n",
    "      # Add evaluation metrics (for EVAL mode)\n",
    "#     eval_metric_ops = { \"accuracy\": tf.metrics.accuracy(labels=labels, predictions=predictions[\"classes\"])}\n",
    "\n",
    "#         return tf.estimator.EstimatorSpec(mode=mode, loss=loss, eval_metric_ops=eval_metric_ops)\n"
   ]
  },
  {
   "cell_type": "code",
   "execution_count": null,
   "metadata": {},
   "outputs": [],
   "source": [
    "def train_input_fcn(x={\"x\": train_data},y=train_labels,batch_size=100,num_epochs=None,shuffle=True):\n",
    "    pass\n",
    "\n",
    "\n",
    "def eval_input_fn(x={\"x\": eval_data},y=eval_labels,num_epochs=1,shuffle=False):\n",
    "    pass\n",
    "\n",
    "\n",
    "\n",
    "parkinson_classifier = tf.estimator.Estimator(\n",
    "model_fn=input_model_fcn)\n",
    "\n",
    "parkinson_classifier.train(input_fn=train_input_fn,steps=epochs)\n",
    "\n",
    "\n",
    "\n",
    "eval_results = parkinson_classifier.evaluate(input_fn=eval_input_fn)\n",
    "print(eval_results)\n",
    "\n"
   ]
  }
 ],
 "metadata": {
  "kernelspec": {
   "display_name": "Python 3",
   "language": "python",
   "name": "python3"
  },
  "language_info": {
   "codemirror_mode": {
    "name": "ipython",
    "version": 3
   },
   "file_extension": ".py",
   "mimetype": "text/x-python",
   "name": "python",
   "nbconvert_exporter": "python",
   "pygments_lexer": "ipython3",
   "version": "3.6.6"
  }
 },
 "nbformat": 4,
 "nbformat_minor": 2
}
